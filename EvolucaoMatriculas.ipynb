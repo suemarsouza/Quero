{
 "cells": [
  {
   "cell_type": "markdown",
   "metadata": {},
   "source": [
    "## EVOLUÇÃO ALUNOS MATRICULADOS QUEROEDUCACAO\n"
   ]
  },
  {
   "cell_type": "markdown",
   "metadata": {},
   "source": [
    "## Importando arquivos que foram extraídos do Postgree\n",
    "\n",
    "#### MELHORIA FUTURA: Fazer a importação de forma genérica"
   ]
  },
  {
   "cell_type": "code",
   "execution_count": 121,
   "metadata": {},
   "outputs": [
    {
     "name": "stdout",
     "output_type": "stream",
     "text": [
      "C:\\Users\\User\\Desktop\\CaseQueroEducacao\\Dados\\dm_cursos_2016\n",
      "C:\\Users\\User\\Desktop\\CaseQueroEducacao\\Dados\\dm_cursos_2009\n"
     ]
    }
   ],
   "source": [
    "import numpy as np\n",
    "import pandas as pd\n",
    "from pandas import ExcelWriter\n",
    "from pandas import ExcelFile\n",
    "\n",
    "file_location = 'C:\\\\Users\\\\User\\\\Desktop\\\\CaseQueroEducacao\\\\Dados\\\\'\n",
    "\n",
    "#files=['dm_cursos_2009','dm_cursos_2010','dm_cursos_2011','dm_cursos_2012','dm_cursos_2013','dm_cursos_2014','dm_cursos_2015','dm_cursos_2016']\n",
    "\n",
    "full_filename = file_location +  file_name\n",
    "\n",
    "print(full_filename)\n",
    "\n",
    "# c:\\users\\user\\appdata\\local\\programs\\python\\python37\\lib\\site-packages\\IPython\\core\\interactiveshell.py:3020: DtypeWarning: Columns (17) have mixed types. Specify dtype option on import or set low_memory=False.\n",
    "low_memory=False\n",
    "\n",
    "file_name='dm_cursos_2009'\n",
    "full_filename = file_location +  file_name\n",
    "pd_2009 = pd.read_csv(full_filename,sep = ';')\n",
    "\n",
    "file_name='dm_cursos_2010'\n",
    "full_filename = file_location +  file_name\n",
    "pd_2010 = pd.read_csv(full_filename,sep = ';')\n",
    "\n",
    "file_name='dm_cursos_2011'\n",
    "full_filename = file_location +  file_name\n",
    "pd_2011 = pd.read_csv(full_filename,sep = ';')\n",
    "\n",
    "file_name='dm_cursos_2012'\n",
    "full_filename = file_location +  file_name\n",
    "pd_2012 = pd.read_csv(full_filename,sep = ';')\n",
    "\n",
    "file_name='dm_cursos_2013'\n",
    "full_filename = file_location +  file_name\n",
    "pd_2013 = pd.read_csv(full_filename,sep = ';')\n",
    "\n",
    "file_name='dm_cursos_2014'\n",
    "full_filename = file_location +  file_name\n",
    "pd_2014 = pd.read_csv(full_filename,sep = ';')\n",
    "\n",
    "file_name='dm_cursos_2015'\n",
    "full_filename = file_location +  file_name\n",
    "pd_2015 = pd.read_csv(full_filename,sep = ';')\n",
    "\n",
    "file_name='dm_cursos_2016'\n",
    "full_filename = file_location +  file_name\n",
    "pd_2016 = pd.read_csv(full_filename,sep = ';')\n",
    "\n"
   ]
  },
  {
   "cell_type": "markdown",
   "metadata": {},
   "source": [
    "### EVOLUÇÃO DAS MATRICULAS\n",
    "\n",
    "#### MELHORIA FUTURA: Sumarizar a matricula sem repetição de código\n",
    "##### Criar classe, função ou loop"
   ]
  },
  {
   "cell_type": "code",
   "execution_count": 62,
   "metadata": {},
   "outputs": [
    {
     "data": {
      "text/html": [
       "<div>\n",
       "<style scoped>\n",
       "    .dataframe tbody tr th:only-of-type {\n",
       "        vertical-align: middle;\n",
       "    }\n",
       "\n",
       "    .dataframe tbody tr th {\n",
       "        vertical-align: top;\n",
       "    }\n",
       "\n",
       "    .dataframe thead th {\n",
       "        text-align: right;\n",
       "    }\n",
       "</style>\n",
       "<table border=\"1\" class=\"dataframe\">\n",
       "  <thead>\n",
       "    <tr style=\"text-align: right;\">\n",
       "      <th></th>\n",
       "      <th>year</th>\n",
       "      <th>sum_matricula</th>\n",
       "    </tr>\n",
       "  </thead>\n",
       "  <tbody>\n",
       "    <tr>\n",
       "      <th>0</th>\n",
       "      <td>2009</td>\n",
       "      <td>11971746.0</td>\n",
       "    </tr>\n",
       "    <tr>\n",
       "      <th>0</th>\n",
       "      <td>2010</td>\n",
       "      <td>12815466.0</td>\n",
       "    </tr>\n",
       "    <tr>\n",
       "      <th>0</th>\n",
       "      <td>2011</td>\n",
       "      <td>13531080.0</td>\n",
       "    </tr>\n",
       "    <tr>\n",
       "      <th>0</th>\n",
       "      <td>2012</td>\n",
       "      <td>14116168.0</td>\n",
       "    </tr>\n",
       "    <tr>\n",
       "      <th>0</th>\n",
       "      <td>2013</td>\n",
       "      <td>14645928.0</td>\n",
       "    </tr>\n",
       "    <tr>\n",
       "      <th>0</th>\n",
       "      <td>2014</td>\n",
       "      <td>15679530.0</td>\n",
       "    </tr>\n",
       "    <tr>\n",
       "      <th>0</th>\n",
       "      <td>2015</td>\n",
       "      <td>16067148.0</td>\n",
       "    </tr>\n",
       "    <tr>\n",
       "      <th>0</th>\n",
       "      <td>2016</td>\n",
       "      <td>16104508.0</td>\n",
       "    </tr>\n",
       "  </tbody>\n",
       "</table>\n",
       "</div>"
      ],
      "text/plain": [
       "   year  sum_matricula\n",
       "0  2009     11971746.0\n",
       "0  2010     12815466.0\n",
       "0  2011     13531080.0\n",
       "0  2012     14116168.0\n",
       "0  2013     14645928.0\n",
       "0  2014     15679530.0\n",
       "0  2015     16067148.0\n",
       "0  2016     16104508.0"
      ]
     },
     "execution_count": 62,
     "metadata": {},
     "output_type": "execute_result"
    }
   ],
   "source": [
    "total_matricula = pd_2009[\"qt_matricula_curso\"].sum()\n",
    "pd_hist = pd.DataFrame({\"year\":[2009], \"sum_matricula\":[total_matricula]})\n",
    "\n",
    "total_matricula = pd_2010[\"qt_matricula_curso\"].sum()\n",
    "pd_hist = pd_hist.append(pd.DataFrame({\"year\":[2010], \"sum_matricula\":[total_matricula]}))\n",
    "\n",
    "total_matricula = pd_2011[\"qt_matricula_curso\"].sum()\n",
    "pd_hist = pd_hist.append(pd.DataFrame({\"year\":[2011], \"sum_matricula\":[total_matricula]}))\n",
    "\n",
    "\n",
    "total_matricula = pd_2012[\"qt_matricula_curso\"].sum()\n",
    "pd_hist = pd_hist.append(pd.DataFrame({\"year\":[2012], \"sum_matricula\":[total_matricula]}))\n",
    "\n",
    "total_matricula = pd_2013[\"qt_matricula_curso\"].sum()\n",
    "pd_hist = pd_hist.append(pd.DataFrame({\"year\":[2013], \"sum_matricula\":[total_matricula]}))\n",
    "\n",
    "total_matricula = pd_2014[\"qt_matricula_curso\"].sum()\n",
    "pd_hist = pd_hist.append(pd.DataFrame({\"year\":[2014], \"sum_matricula\":[total_matricula]}))\n",
    "\n",
    "total_matricula = pd_2015[\"qt_matricula_curso\"].sum()\n",
    "pd_hist = pd_hist.append(pd.DataFrame({\"year\":[2015], \"sum_matricula\":[total_matricula]}))\n",
    "\n",
    "total_matricula = pd_2016[\"qt_matricula_curso\"].sum()\n",
    "pd_hist = pd_hist.append(pd.DataFrame({\"year\":[2016], \"sum_matricula\":[total_matricula]}))\n",
    "\n",
    "\n",
    "pd_hist.set_index('year')\n",
    "pd_hist\n"
   ]
  },
  {
   "cell_type": "code",
   "execution_count": 125,
   "metadata": {},
   "outputs": [
    {
     "data": {
      "text/html": [
       "<div>\n",
       "<style scoped>\n",
       "    .dataframe tbody tr th:only-of-type {\n",
       "        vertical-align: middle;\n",
       "    }\n",
       "\n",
       "    .dataframe tbody tr th {\n",
       "        vertical-align: top;\n",
       "    }\n",
       "\n",
       "    .dataframe thead th {\n",
       "        text-align: right;\n",
       "    }\n",
       "</style>\n",
       "<table border=\"1\" class=\"dataframe\">\n",
       "  <thead>\n",
       "    <tr style=\"text-align: right;\">\n",
       "      <th></th>\n",
       "      <th>sum_matricula</th>\n",
       "    </tr>\n",
       "    <tr>\n",
       "      <th>year</th>\n",
       "      <th></th>\n",
       "    </tr>\n",
       "  </thead>\n",
       "  <tbody>\n",
       "    <tr>\n",
       "      <th>2009</th>\n",
       "      <td>11971746</td>\n",
       "    </tr>\n",
       "  </tbody>\n",
       "</table>\n",
       "</div>"
      ],
      "text/plain": [
       "      sum_matricula\n",
       "year               \n",
       "2009       11971746"
      ]
     },
     "execution_count": 125,
     "metadata": {},
     "output_type": "execute_result"
    }
   ],
   "source": [
    "df_hist.set_index('year')"
   ]
  },
  {
   "cell_type": "code",
   "execution_count": 111,
   "metadata": {},
   "outputs": [
    {
     "data": {
      "image/png": "[encoded data removed]",
      "text/plain": [
       "<Figure size 640x480 with 1 Axes>"
      ]
     },
     "metadata": {},
     "output_type": "display_data"
    }
   ],
   "source": [
    "import matplotlib.pyplot as plt; plt.rcdefaults()\n",
    "import numpy as np\n",
    "import matplotlib.pyplot as plt\n",
    "\n",
    "objects = ('2009','2010','2011','2012','2013','2014','2015','2016')\n",
    "y_pos = np.arange(len(objects))\n",
    "performance = [11971746,12815466, 13531080, 14116168, 14645928, 15679530, 16067148, 16104508]\n",
    "\n",
    "plt.bar(y_pos, performance, align='center', alpha=0.7)\n",
    "plt.xticks(y_pos, objects)\n",
    "\n",
    "plt.show()"
   ]
  },
  {
   "cell_type": "markdown",
   "metadata": {},
   "source": [
    "### MELHORIA FUTURA: Melhorar design do gráfico, inserir títulos e detalhes"
   ]
  },
  {
   "cell_type": "markdown",
   "metadata": {},
   "source": [
    "## MÉDIA MÓVEL 2 ANOS"
   ]
  },
  {
   "cell_type": "code",
   "execution_count": 80,
   "metadata": {},
   "outputs": [
    {
     "name": "stdout",
     "output_type": "stream",
     "text": [
      "2009.0\n",
      "2010.0\n"
     ]
    },
    {
     "data": {
      "text/html": [
       "<div>\n",
       "<style scoped>\n",
       "    .dataframe tbody tr th:only-of-type {\n",
       "        vertical-align: middle;\n",
       "    }\n",
       "\n",
       "    .dataframe tbody tr th {\n",
       "        vertical-align: top;\n",
       "    }\n",
       "\n",
       "    .dataframe thead th {\n",
       "        text-align: right;\n",
       "    }\n",
       "</style>\n",
       "<table border=\"1\" class=\"dataframe\">\n",
       "  <thead>\n",
       "    <tr style=\"text-align: right;\">\n",
       "      <th></th>\n",
       "      <th>year</th>\n",
       "      <th>sum_matricula</th>\n",
       "    </tr>\n",
       "  </thead>\n",
       "  <tbody>\n",
       "    <tr>\n",
       "      <th>0</th>\n",
       "      <td>2009</td>\n",
       "      <td>11971746.0</td>\n",
       "    </tr>\n",
       "    <tr>\n",
       "      <th>0</th>\n",
       "      <td>2010</td>\n",
       "      <td>12815466.0</td>\n",
       "    </tr>\n",
       "    <tr>\n",
       "      <th>0</th>\n",
       "      <td>2011</td>\n",
       "      <td>13531080.0</td>\n",
       "    </tr>\n",
       "    <tr>\n",
       "      <th>0</th>\n",
       "      <td>2012</td>\n",
       "      <td>14116168.0</td>\n",
       "    </tr>\n",
       "    <tr>\n",
       "      <th>0</th>\n",
       "      <td>2013</td>\n",
       "      <td>14645928.0</td>\n",
       "    </tr>\n",
       "    <tr>\n",
       "      <th>0</th>\n",
       "      <td>2014</td>\n",
       "      <td>15679530.0</td>\n",
       "    </tr>\n",
       "    <tr>\n",
       "      <th>0</th>\n",
       "      <td>2015</td>\n",
       "      <td>16067148.0</td>\n",
       "    </tr>\n",
       "    <tr>\n",
       "      <th>0</th>\n",
       "      <td>2016</td>\n",
       "      <td>16104508.0</td>\n",
       "    </tr>\n",
       "  </tbody>\n",
       "</table>\n",
       "</div>"
      ],
      "text/plain": [
       "   year  sum_matricula\n",
       "0  2009     11971746.0\n",
       "0  2010     12815466.0\n",
       "0  2011     13531080.0\n",
       "0  2012     14116168.0\n",
       "0  2013     14645928.0\n",
       "0  2014     15679530.0\n",
       "0  2015     16067148.0\n",
       "0  2016     16104508.0"
      ]
     },
     "execution_count": 80,
     "metadata": {},
     "output_type": "execute_result"
    }
   ],
   "source": [
    "pd_hist.set_index('year')  \n",
    "        \n",
    "pd_hist"
   ]
  },
  {
   "cell_type": "code",
   "execution_count": 86,
   "metadata": {},
   "outputs": [],
   "source": [
    "#pd_hist.Series(sum_matricula).rolling(window=2).mean()\n",
    "\n",
    "pd_hist[\"mms_2anos\"] = pd_hist[\"sum_matricula\"].rolling(window=2).mean()"
   ]
  },
  {
   "cell_type": "code",
   "execution_count": 87,
   "metadata": {},
   "outputs": [
    {
     "data": {
      "text/html": [
       "<div>\n",
       "<style scoped>\n",
       "    .dataframe tbody tr th:only-of-type {\n",
       "        vertical-align: middle;\n",
       "    }\n",
       "\n",
       "    .dataframe tbody tr th {\n",
       "        vertical-align: top;\n",
       "    }\n",
       "\n",
       "    .dataframe thead th {\n",
       "        text-align: right;\n",
       "    }\n",
       "</style>\n",
       "<table border=\"1\" class=\"dataframe\">\n",
       "  <thead>\n",
       "    <tr style=\"text-align: right;\">\n",
       "      <th></th>\n",
       "      <th>year</th>\n",
       "      <th>sum_matricula</th>\n",
       "      <th>mms_2anos</th>\n",
       "    </tr>\n",
       "  </thead>\n",
       "  <tbody>\n",
       "    <tr>\n",
       "      <th>0</th>\n",
       "      <td>2009</td>\n",
       "      <td>11971746.0</td>\n",
       "      <td>NaN</td>\n",
       "    </tr>\n",
       "    <tr>\n",
       "      <th>0</th>\n",
       "      <td>2010</td>\n",
       "      <td>12815466.0</td>\n",
       "      <td>12393606.0</td>\n",
       "    </tr>\n",
       "    <tr>\n",
       "      <th>0</th>\n",
       "      <td>2011</td>\n",
       "      <td>13531080.0</td>\n",
       "      <td>13173273.0</td>\n",
       "    </tr>\n",
       "    <tr>\n",
       "      <th>0</th>\n",
       "      <td>2012</td>\n",
       "      <td>14116168.0</td>\n",
       "      <td>13823624.0</td>\n",
       "    </tr>\n",
       "    <tr>\n",
       "      <th>0</th>\n",
       "      <td>2013</td>\n",
       "      <td>14645928.0</td>\n",
       "      <td>14381048.0</td>\n",
       "    </tr>\n",
       "    <tr>\n",
       "      <th>0</th>\n",
       "      <td>2014</td>\n",
       "      <td>15679530.0</td>\n",
       "      <td>15162729.0</td>\n",
       "    </tr>\n",
       "    <tr>\n",
       "      <th>0</th>\n",
       "      <td>2015</td>\n",
       "      <td>16067148.0</td>\n",
       "      <td>15873339.0</td>\n",
       "    </tr>\n",
       "    <tr>\n",
       "      <th>0</th>\n",
       "      <td>2016</td>\n",
       "      <td>16104508.0</td>\n",
       "      <td>16085828.0</td>\n",
       "    </tr>\n",
       "  </tbody>\n",
       "</table>\n",
       "</div>"
      ],
      "text/plain": [
       "   year  sum_matricula   mms_2anos\n",
       "0  2009     11971746.0         NaN\n",
       "0  2010     12815466.0  12393606.0\n",
       "0  2011     13531080.0  13173273.0\n",
       "0  2012     14116168.0  13823624.0\n",
       "0  2013     14645928.0  14381048.0\n",
       "0  2014     15679530.0  15162729.0\n",
       "0  2015     16067148.0  15873339.0\n",
       "0  2016     16104508.0  16085828.0"
      ]
     },
     "execution_count": 87,
     "metadata": {},
     "output_type": "execute_result"
    }
   ],
   "source": [
    "pd_hist"
   ]
  },
  {
   "cell_type": "code",
   "execution_count": 108,
   "metadata": {},
   "outputs": [
    {
     "data": {
      "image/png": "[encoded data removed]",
      "text/plain": [
       "<Figure size 640x480 with 1 Axes>"
      ]
     },
     "metadata": {},
     "output_type": "display_data"
    }
   ],
   "source": [
    "\n",
    "fig = plt.figure()\n",
    "ax = fig.gca()\n",
    "\n",
    "xs = pd_hist[\"year\"]\n",
    "ys = pd_hist[\"sum_matricula\"]\n",
    "\n",
    "ax.bar(xs, ys, color = 'g')\n",
    "ax.plot(xs, ys, color = 'k')\n",
    "\n",
    "plt.show()\n"
   ]
  },
  {
   "cell_type": "code",
   "execution_count": 127,
   "metadata": {},
   "outputs": [
    {
     "data": {
      "text/plain": [
       "<matplotlib.axes._subplots.AxesSubplot at 0x12d265c39b0>"
      ]
     },
     "execution_count": 127,
     "metadata": {},
     "output_type": "execute_result"
    },
    {
     "data": {
      "image/png": "[encoded data removed]",
      "text/plain": [
       "<Figure size 1500x400 with 1 Axes>"
      ]
     },
     "metadata": {},
     "output_type": "display_data"
    }
   ],
   "source": [
    "pd_hist.set_index('year')[['sum_matricula', 'mms_2anos']].plot(figsize=(15, 4), title='Evolução de Matrículas', grid=True)"
   ]
  },
  {
   "cell_type": "markdown",
   "metadata": {},
   "source": [
    "### EXPORTANDO O DATAFRAME PARA O EXCEL"
   ]
  },
  {
   "cell_type": "code",
   "execution_count": 130,
   "metadata": {},
   "outputs": [],
   "source": [
    "pd_hist.to_csv(file_location + 'EvolucaoMatriculas.csv')"
   ]
  }
 ],
 "metadata": {
  "kernelspec": {
   "display_name": "Python 3",
   "language": "python",
   "name": "python3"
  },
  "language_info": {
   "codemirror_mode": {
    "name": "ipython",
    "version": 3
   },
   "file_extension": ".py",
   "mimetype": "text/x-python",
   "name": "python",
   "nbconvert_exporter": "python",
   "pygments_lexer": "ipython3",
   "version": "3.7.0"
  }
 },
 "nbformat": 4,
 "nbformat_minor": 2
}
